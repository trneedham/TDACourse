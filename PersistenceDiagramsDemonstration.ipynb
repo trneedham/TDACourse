{
 "cells": [
  {
   "cell_type": "markdown",
   "metadata": {},
   "source": [
    "# Persistence Diagrams Demonstration\n",
    "\n",
    "We demonstrate how to use various Python packages to compute and display persistence diagrams. We use the standard Python packages matplotlib, numpy, sklearn as well as the specialized (for TDA) packages ripser and persim. Ripser and persim need to be pip installed before running this notebook.\n",
    "\n",
    "This is a fleshed out version of the demonstration available at https://github.com/scikit-tda/ripser.py"
   ]
  },
  {
   "cell_type": "code",
   "execution_count": null,
   "metadata": {},
   "outputs": [],
   "source": [
    "# Import packages\n",
    "from ripser import ripser\n",
    "# ripser is a package for computing barcodes from Vietoris-Rips complexes\n",
    "from persim import plot_diagrams \n",
    "# persim is a package for displaying and computing distances between persistence diagrams\n",
    "import matplotlib.pyplot as pl\n",
    "from mpl_toolkits.mplot3d import Axes3D\n",
    "# The above are for producing scatterplots of our data\n",
    "import numpy as np\n",
    "# This is a standard package for linear algebra and statistics"
   ]
  },
  {
   "cell_type": "markdown",
   "metadata": {},
   "source": [
    "We begin by defining a toy dataset. Let's just take a bunch of random points in the plane."
   ]
  },
  {
   "cell_type": "code",
   "execution_count": null,
   "metadata": {
    "scrolled": true
   },
   "outputs": [],
   "source": [
    "data = np.random.random((100,2)) # Define a random point cloud of 100 points in the plane\n",
    "fig = pl.figure() # Create a figure to display the random point cloud\n",
    "ax1 = fig.add_subplot(121)\n",
    "ax1.plot(data[:, 0], data[:, 1],'ob') # Plot the data on the axes. +b plots as a scatter plot of blue + signs.\n",
    "ax1.axis('equal'); # Set the aspect ratio to use equal axis scales."
   ]
  },
  {
   "cell_type": "markdown",
   "metadata": {},
   "source": [
    "Now we compute the persistent homology of the Vietoris-Rips complex of the dataset. This is done by applying the ripser function. Ripser has lots of options, such as range of dimensions to compute, type of data etc. If we don't specify anything, then it will run the computation assuming the data is a pointcloud (which it is, in our case)."
   ]
  },
  {
   "cell_type": "code",
   "execution_count": null,
   "metadata": {},
   "outputs": [],
   "source": [
    "ripserData = ripser(data)"
   ]
  },
  {
   "cell_type": "markdown",
   "metadata": {},
   "source": [
    "Let's take a look at the output of ripser."
   ]
  },
  {
   "cell_type": "code",
   "execution_count": null,
   "metadata": {},
   "outputs": [],
   "source": [
    "ripserData"
   ]
  },
  {
   "cell_type": "markdown",
   "metadata": {},
   "source": [
    "The types of things that ripser computed are listed under various 'keys'. Let's take a look at those."
   ]
  },
  {
   "cell_type": "code",
   "execution_count": null,
   "metadata": {},
   "outputs": [],
   "source": [
    "ripserData.keys()"
   ]
  },
  {
   "cell_type": "markdown",
   "metadata": {},
   "source": [
    "The computation that we really care about is under the 'dgms' key."
   ]
  },
  {
   "cell_type": "code",
   "execution_count": null,
   "metadata": {},
   "outputs": [],
   "source": [
    "diagrams = ripser(data)['dgms'] # Pick off the dgms part of the ripser output\n",
    "print(diagrams) # Look at the the output"
   ]
  },
  {
   "cell_type": "markdown",
   "metadata": {},
   "source": [
    "We see that the output of diagrams is a pair of arrays. These are points in the persistence diagram for degree-0 and degree-1 persistent homology, respectively. We can now plot these diagrams. This can be done on separate axes, or on the same axis."
   ]
  },
  {
   "cell_type": "code",
   "execution_count": null,
   "metadata": {},
   "outputs": [],
   "source": [
    "plot_diagrams(diagrams[0]) # Just degree-0"
   ]
  },
  {
   "cell_type": "code",
   "execution_count": null,
   "metadata": {},
   "outputs": [],
   "source": [
    "plot_diagrams(diagrams[1]) # Just degree-1"
   ]
  },
  {
   "cell_type": "code",
   "execution_count": null,
   "metadata": {},
   "outputs": [],
   "source": [
    "plot_diagrams(diagrams) # Both degree-0 and degree-1"
   ]
  },
  {
   "cell_type": "markdown",
   "metadata": {},
   "source": [
    "Let's look at some other examples. First we define a function to randomly sample from Euclidean spheres. Then we sample 250 points from a sphere in 3-space and plot the result."
   ]
  },
  {
   "cell_type": "code",
   "execution_count": null,
   "metadata": {},
   "outputs": [],
   "source": [
    "def sample_spherical(npoints, ndim=3):\n",
    "    vec = np.random.randn(ndim, npoints)\n",
    "    vec /= np.linalg.norm(vec, axis=0)\n",
    "    vec = np.transpose(vec)\n",
    "    return vec\n",
    "\n",
    "sphere250 = sample_spherical(250)\n",
    "\n",
    "fig = pl.figure()\n",
    "ax = Axes3D(fig)\n",
    "ax.scatter(sphere250[:,0],sphere250[:,1],sphere250[:,2], c='b', marker='o');\n",
    "ax.set_aspect('equal');"
   ]
  },
  {
   "cell_type": "markdown",
   "metadata": {},
   "source": [
    "Now let's compute the persistence diagrams for the data. We can specify that we want to compute homology up to degree-2. We then plot the persistence diagrams on the same axes. I'm interested in how long these computations take, so I will also run a timer."
   ]
  },
  {
   "cell_type": "code",
   "execution_count": null,
   "metadata": {},
   "outputs": [],
   "source": [
    "import time"
   ]
  },
  {
   "cell_type": "code",
   "execution_count": null,
   "metadata": {},
   "outputs": [],
   "source": [
    "start0 = time.time()\n",
    "diagrams = ripser(sphere250,maxdim=2)['dgms']\n",
    "plot_diagrams(diagrams)\n",
    "end0 = time.time()\n",
    "\n",
    "print('Computation Time: ' + str(end0 - start0) + ' seconds')"
   ]
  },
  {
   "cell_type": "markdown",
   "metadata": {},
   "source": [
    "Observe in the persistence diagrams that there is one highly persistent 0-cycle and a single 2-cycle. These reflect the topology of the sphere. Since 250 points sparsely covers the sphere, we see there are lots of spurious loops which form and die out quickly in the Vietoris-Rips complex. Let's see what happens if we sample the sphere more densely."
   ]
  },
  {
   "cell_type": "code",
   "execution_count": null,
   "metadata": {},
   "outputs": [],
   "source": [
    "sphere500 = sample_spherical(500)\n",
    "\n",
    "fig = pl.figure()\n",
    "ax = Axes3D(fig)\n",
    "ax.scatter(sphere500[:,0],sphere500[:,1],sphere500[:,2], c='b', marker='o');\n",
    "ax.set_aspect('equal');"
   ]
  },
  {
   "cell_type": "code",
   "execution_count": null,
   "metadata": {},
   "outputs": [],
   "source": [
    "start0 = time.time()\n",
    "diagrams = ripser(sphere500,maxdim=2)['dgms']\n",
    "plot_diagrams(diagrams, show=True)\n",
    "end0 = time.time()\n",
    "\n",
    "print('Computation Time: ' + str(end0 - start0) + ' seconds')"
   ]
  },
  {
   "cell_type": "markdown",
   "metadata": {},
   "source": [
    "The above diagrams show that the more densely sampled sphere has much more pronounced persistent features. Now let's look at \"noisy\" samples from a circle."
   ]
  },
  {
   "cell_type": "code",
   "execution_count": null,
   "metadata": {},
   "outputs": [],
   "source": [
    "data = sample_spherical(100,ndim=2)+.5*np.random.random((100,2))\n",
    "# Generate the noisy circle.\n",
    "\n",
    "# Plot the data as a scatter plot.\n",
    "fig = pl.figure()\n",
    "ax1 = fig.add_subplot(121)\n",
    "ax1.plot(data[:, 0], data[:, 1], 'ob', label='Source samples');\n",
    "ax1.axis('equal');"
   ]
  },
  {
   "cell_type": "code",
   "execution_count": null,
   "metadata": {},
   "outputs": [],
   "source": [
    "dgms = ripser(data)['dgms']\n",
    "plot_diagrams(dgms, show=True)"
   ]
  },
  {
   "cell_type": "markdown",
   "metadata": {},
   "source": [
    "Playing with parameters, we can make the circle more densely sampled or much noisier."
   ]
  },
  {
   "cell_type": "code",
   "execution_count": null,
   "metadata": {},
   "outputs": [],
   "source": [
    "numsamp = 50\n",
    "noiseLevel = .5\n",
    "\n",
    "data = sample_spherical(numsamp,ndim=2)+noiseLevel*np.random.random((numsamp,2))\n",
    "\n",
    "fig = pl.figure()\n",
    "ax1 = fig.add_subplot(121)\n",
    "ax1.plot(data[:, 0], data[:, 1], 'ob');\n",
    "ax1.axis('equal')\n",
    "dgms = ripser(data)['dgms']\n",
    "fig2 = pl.figure()\n",
    "plot_diagrams(dgms, show=True)"
   ]
  },
  {
   "cell_type": "markdown",
   "metadata": {},
   "source": [
    "By default, ripser computes persistent homology over the integer ring (which we haven't covered in class). We can force it to compute over the field with two elements (also called Z/2Z) using the following commands."
   ]
  },
  {
   "cell_type": "code",
   "execution_count": null,
   "metadata": {
    "scrolled": false
   },
   "outputs": [],
   "source": [
    "# Homology over Z/2Z\n",
    "dgms = ripser(data, coeff=2)['dgms']\n",
    "plot_diagrams(dgms, plot_only=[1], title=\"Homology over Z/2Z\", show=True)"
   ]
  },
  {
   "cell_type": "markdown",
   "metadata": {},
   "source": [
    "Another option in Ripser is to display the persistance diagram tilted so that the x=y line becomes the x-axis. This is called a \"Lifetime\" persistence diagram."
   ]
  },
  {
   "cell_type": "code",
   "execution_count": null,
   "metadata": {
    "scrolled": false
   },
   "outputs": [],
   "source": [
    "plot_diagrams(dgms, lifetime=True)"
   ]
  },
  {
   "cell_type": "code",
   "execution_count": null,
   "metadata": {},
   "outputs": [],
   "source": []
  }
 ],
 "metadata": {
  "kernelspec": {
   "display_name": "Python 2",
   "language": "python",
   "name": "python2"
  },
  "language_info": {
   "codemirror_mode": {
    "name": "ipython",
    "version": 2
   },
   "file_extension": ".py",
   "mimetype": "text/x-python",
   "name": "python",
   "nbconvert_exporter": "python",
   "pygments_lexer": "ipython2",
   "version": "2.7.15"
  }
 },
 "nbformat": 4,
 "nbformat_minor": 2
}
